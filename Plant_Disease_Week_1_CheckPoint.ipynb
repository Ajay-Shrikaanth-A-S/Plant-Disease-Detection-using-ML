{
  "nbformat": 4,
  "nbformat_minor": 0,
  "metadata": {
    "colab": {
      "provenance": []
    },
    "kernelspec": {
      "name": "python3",
      "display_name": "Python 3"
    },
    "language_info": {
      "name": "python"
    }
  },
  "cells": [
    {
      "cell_type": "code",
      "execution_count": null,
      "metadata": {
        "id": "BUZnZUTGiViU"
      },
      "outputs": [],
      "source": [
        "from google.colab import drive\n",
        "drive.mount('/content/drive')"
      ]
    },
    {
      "cell_type": "code",
      "source": [
        "# prompt: generate code to unzip /content/drive/MyDrive/archive (2).zip this file at /content folder\n",
        "import zipfile\n",
        "import os\n",
        "\n",
        "\n",
        "# Define the path to the zip file and the extraction directory\n",
        "zip_file_path = \"/content/drive/MyDrive/archive (2).zip\"\n",
        "extract_dir = \"/content\"\n",
        "\n",
        "# Check if the zip file exists\n",
        "if os.path.exists(zip_file_path):\n",
        "    try:\n",
        "        # Create a ZipFile object\n",
        "        with zipfile.ZipFile(zip_file_path, 'r') as zip_ref:\n",
        "            # Extract all contents to the specified directory\n",
        "            zip_ref.extractall(extract_dir)\n",
        "        print(f\"Successfully extracted '{zip_file_path}' to '{extract_dir}'\")\n",
        "    except zipfile.BadZipFile:\n",
        "        print(f\"Error: '{zip_file_path}' is not a valid zip file.\")\n",
        "    except Exception as e:\n",
        "        print(f\"An error occurred: {e}\")\n",
        "else:\n",
        "    print(f\"Error: '{zip_file_path}' does not exist.\")\n"
      ],
      "metadata": {
        "id": "_Pz0BTAKihcg"
      },
      "execution_count": null,
      "outputs": []
    },
    {
      "cell_type": "code",
      "source": [
        "import numpy as np\n",
        "import pandas as pd\n",
        "import matplotlib.pyplot as plt\n",
        "import pathlib\n",
        "import os\n",
        "import glob as gb\n",
        "import glob\n",
        "import cv2\n",
        "import tensorflow as tf"
      ],
      "metadata": {
        "id": "os971hGiij4F"
      },
      "execution_count": null,
      "outputs": []
    },
    {
      "cell_type": "code",
      "source": [
        "train='/content/new plant diseases dataset(augmented)/New Plant Diseases Dataset(Augmented)/train'\n"
      ],
      "metadata": {
        "id": "p4JrO3ExinPg"
      },
      "execution_count": null,
      "outputs": []
    },
    {
      "cell_type": "code",
      "source": [
        "size=224\n",
        "train_generator=tf.keras.preprocessing.image.ImageDataGenerator(\n",
        "    rotation_range=90,\n",
        "    width_shift_range=0.0,\n",
        "    height_shift_range=0.0,\n",
        "    shear_range=0.0,\n",
        "    zoom_range=0.0,\n",
        "    horizontal_flip=False,\n",
        "    vertical_flip=False,\n",
        "    rescale=1/255.0,\n",
        "    preprocessing_function=None,\n",
        "    validation_split=0.1,\n",
        ").flow_from_directory(train,\n",
        "                      batch_size=164,\n",
        "                      target_size=(size,size),\n",
        "                      subset=\"training\",\n",
        "                      color_mode='rgb', #\"rgb\", \"rgba\", or \"grayscale\"\n",
        "                      class_mode='categorical',  # Use 'binary', 'sparse','categorical' or None as needed\n",
        "                      shuffle=True)"
      ],
      "metadata": {
        "id": "kthja-qoioTQ"
      },
      "execution_count": null,
      "outputs": []
    },
    {
      "cell_type": "code",
      "source": [
        "train_generator.class_indices"
      ],
      "metadata": {
        "id": "_lycux8WiucX"
      },
      "execution_count": null,
      "outputs": []
    },
    {
      "cell_type": "code",
      "source": [
        "#let's display some images from training set\n",
        "\n",
        "classes=list(train_generator.class_indices.keys())\n",
        "plt.figure(figsize=(20,20))\n",
        "for X_batch, y_batch in train_generator:\n",
        "    # create a grid of 3x3 images\n",
        "    for i in range(0,16):\n",
        "        plt.subplot(4,4,i+1)\n",
        "        plt.imshow(X_batch[i])\n",
        "        plt.title(classes[np.where(y_batch[i]==1)[0][0]])   # when y is categorical\n",
        "        # plt.title(classes[int(y_batch[i])])   # when y is binary or sparse\n",
        "        plt.grid(None)\n",
        "    # show the plot\n",
        "    plt.show()\n",
        "    break\n"
      ],
      "metadata": {
        "id": "Y2IRjoREiuaA"
      },
      "execution_count": null,
      "outputs": []
    },
    {
      "cell_type": "code",
      "source": [
        "valid='/content/new plant diseases dataset(augmented)/New Plant Diseases Dataset(Augmented)/valid'\n"
      ],
      "metadata": {
        "id": "jqEgShphiuXZ"
      },
      "execution_count": null,
      "outputs": []
    },
    {
      "cell_type": "code",
      "source": [
        "valid_generator=tf.keras.preprocessing.image.ImageDataGenerator(\n",
        "    rescale=1/255.0,\n",
        "    preprocessing_function=None,\n",
        "    validation_split=0.1,\n",
        ").flow_from_directory(valid,\n",
        "                      batch_size=164,\n",
        "                      target_size=(224,224),\n",
        "                      subset='validation',\n",
        "                      color_mode='rgb', #\"rgb\", \"rgba\", or \"grayscale\"\n",
        "                      class_mode='categorical',  # Use 'binary', 'sparse','categorical' or None as needed\n",
        "                      shuffle=False)"
      ],
      "metadata": {
        "id": "eZdfnU03iuUg"
      },
      "execution_count": null,
      "outputs": []
    },
    {
      "cell_type": "code",
      "source": [
        "test='/content/new plant diseases dataset(augmented)/New Plant Diseases Dataset(Augmented)/valid'\n",
        "test_generator=tf.keras.preprocessing.image.ImageDataGenerator(\n",
        "    rescale=1/255.0,\n",
        "    preprocessing_function=None,\n",
        ").flow_from_directory(test,\n",
        "                      batch_size=164,\n",
        "                      target_size=(224,224),\n",
        "                      color_mode='rgb', #\"rgb\", \"rgba\", or \"grayscale\"\n",
        "                      class_mode='categorical',  # Use 'binary', 'sparse','categorical' or None as needed\n",
        "                      shuffle=False)"
      ],
      "metadata": {
        "id": "DEdndHSsiuQX"
      },
      "execution_count": null,
      "outputs": []
    },
    {
      "cell_type": "code",
      "source": [
        "test_generator.class_indices"
      ],
      "metadata": {
        "id": "yTXbUMNViuGo"
      },
      "execution_count": null,
      "outputs": []
    },
    {
      "cell_type": "code",
      "source": [],
      "metadata": {
        "id": "75IUU_BKio75"
      },
      "execution_count": null,
      "outputs": []
    }
  ]
}